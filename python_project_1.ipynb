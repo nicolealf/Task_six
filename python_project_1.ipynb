{
  "nbformat": 4,
  "nbformat_minor": 0,
  "metadata": {
    "colab": {
      "name": "python_project_1.ipynb",
      "provenance": [],
      "collapsed_sections": [],
      "authorship_tag": "ABX9TyOWx9OYnXEeavcLp5v3dc/W",
      "include_colab_link": true
    },
    "kernelspec": {
      "name": "python3",
      "display_name": "Python 3"
    }
  },
  "cells": [
    {
      "cell_type": "markdown",
      "metadata": {
        "id": "view-in-github",
        "colab_type": "text"
      },
      "source": [
        "<a href=\"https://colab.research.google.com/github/nicolealf/Task_six/blob/main/python_project_1.ipynb\" target=\"_parent\"><img src=\"https://colab.research.google.com/assets/colab-badge.svg\" alt=\"Open In Colab\"/></a>"
      ]
    },
    {
      "cell_type": "code",
      "metadata": {
        "id": "6__u2AkZ3BNj"
      },
      "source": [
        "import numpy as np"
      ],
      "execution_count": 3,
      "outputs": []
    },
    {
      "cell_type": "markdown",
      "metadata": {
        "id": "ki_f5rX62NuQ"
      },
      "source": [
        "Question One"
      ]
    },
    {
      "cell_type": "code",
      "metadata": {
        "id": "VKRfqIi62PM1"
      },
      "source": [
        "print(A[4,2])"
      ],
      "execution_count": null,
      "outputs": []
    },
    {
      "cell_type": "markdown",
      "metadata": {
        "id": "V-j-IVpO2nMz"
      },
      "source": [
        "Question Two "
      ]
    },
    {
      "cell_type": "code",
      "metadata": {
        "id": "Bdldy0lt2oeK"
      },
      "source": [
        "A=np.array([[1,2,3],[4,5,6],[7,8,9]])"
      ],
      "execution_count": 4,
      "outputs": []
    },
    {
      "cell_type": "code",
      "metadata": {
        "colab": {
          "base_uri": "https://localhost:8080/"
        },
        "id": "ajZEvuH_2xHq",
        "outputId": "b57c2f74-d97e-46e4-f8e6-3b2cf14f81d7"
      },
      "source": [
        "print(A)"
      ],
      "execution_count": 5,
      "outputs": [
        {
          "output_type": "stream",
          "text": [
            "[[1 2 3]\n",
            " [4 5 6]\n",
            " [7 8 9]]\n"
          ],
          "name": "stdout"
        }
      ]
    },
    {
      "cell_type": "code",
      "metadata": {
        "id": "ET3fpj3p3E4p"
      },
      "source": [
        "A[2]=[7,8,10]"
      ],
      "execution_count": 6,
      "outputs": []
    },
    {
      "cell_type": "code",
      "metadata": {
        "colab": {
          "base_uri": "https://localhost:8080/"
        },
        "id": "vbTgC_2l3L4j",
        "outputId": "8f718857-b09d-4f4f-9db8-cece750be9a4"
      },
      "source": [
        "print(A)"
      ],
      "execution_count": 7,
      "outputs": [
        {
          "output_type": "stream",
          "text": [
            "[[ 1  2  3]\n",
            " [ 4  5  6]\n",
            " [ 7  8 10]]\n"
          ],
          "name": "stdout"
        }
      ]
    },
    {
      "cell_type": "markdown",
      "metadata": {
        "id": "3vt13_Sd3VtN"
      },
      "source": [
        "The third row the matrix A was replaced by (7, 8, 10)"
      ]
    },
    {
      "cell_type": "code",
      "metadata": {
        "id": "d4dBXWiH3Mz6"
      },
      "source": [
        "A[1]=[1,1,1]"
      ],
      "execution_count": 9,
      "outputs": []
    },
    {
      "cell_type": "code",
      "metadata": {
        "colab": {
          "base_uri": "https://localhost:8080/"
        },
        "id": "RD-wFwdG3v8j",
        "outputId": "74321987-72bf-47ff-cbee-40f9dc7e9a7a"
      },
      "source": [
        "print(A)\n"
      ],
      "execution_count": 10,
      "outputs": [
        {
          "output_type": "stream",
          "text": [
            "[[ 1  2  3]\n",
            " [ 1  1  1]\n",
            " [ 7  8 10]]\n"
          ],
          "name": "stdout"
        }
      ]
    },
    {
      "cell_type": "markdown",
      "metadata": {
        "id": "kS-QHNiM4NxK"
      },
      "source": [
        "Question Three"
      ]
    },
    {
      "cell_type": "code",
      "metadata": {
        "id": "NJAssj1L3z5T"
      },
      "source": [
        ""
      ],
      "execution_count": null,
      "outputs": []
    },
    {
      "cell_type": "markdown",
      "metadata": {
        "id": "85BVxc5s4WAa"
      },
      "source": [
        "The third line of code is replacing the second row of the matrix A by the sum of the second row and the first row multiplied by the negative of the second entry and the first column. The fourth line of code is replacing the third row of the matrix by the sum of the third row and the first row multiplied by the negative of the entry that is in the third row and the first column. The sixth line of code is replacing the third row of the matrix A by the sum of row three and row two which is then multiplied by the negative of the entry that is in the third row, second column and divided by the entry that is in the second row and second column. "
      ]
    },
    {
      "cell_type": "markdown",
      "metadata": {
        "id": "3tIg2QoT5uhk"
      },
      "source": [
        "Question Four"
      ]
    },
    {
      "cell_type": "code",
      "metadata": {
        "id": "4wlan1FK5waP"
      },
      "source": [
        "A = np.array([[1, 2, 3], [4, 5, 6], [7, 8, 10]])"
      ],
      "execution_count": 12,
      "outputs": []
    },
    {
      "cell_type": "code",
      "metadata": {
        "id": "oPl_I3lq6Sga"
      },
      "source": [
        "B = np.array([[-1], [4], [-10]])"
      ],
      "execution_count": 14,
      "outputs": []
    },
    {
      "cell_type": "code",
      "metadata": {
        "colab": {
          "base_uri": "https://localhost:8080/"
        },
        "id": "vmmIpxDJ6WTg",
        "outputId": "fdb67ec1-777d-4776-8089-7fc7d50cde3f"
      },
      "source": [
        "print(B)"
      ],
      "execution_count": 15,
      "outputs": [
        {
          "output_type": "stream",
          "text": [
            "[[ -1]\n",
            " [  4]\n",
            " [-10]]\n"
          ],
          "name": "stdout"
        }
      ]
    },
    {
      "cell_type": "code",
      "metadata": {
        "id": "DZetoURI6nYk"
      },
      "source": [
        "x = np.linalg.solve(A, B)\n"
      ],
      "execution_count": 16,
      "outputs": []
    },
    {
      "cell_type": "code",
      "metadata": {
        "colab": {
          "base_uri": "https://localhost:8080/"
        },
        "id": "1NCHpBH56u-T",
        "outputId": "8169fd19-c23b-4067-8ce1-f0d1ac9f4378"
      },
      "source": [
        "x"
      ],
      "execution_count": 17,
      "outputs": [
        {
          "output_type": "execute_result",
          "data": {
            "text/plain": [
              "array([[-14.66666667],\n",
              "       [ 35.33333333],\n",
              "       [-19.        ]])"
            ]
          },
          "metadata": {
            "tags": []
          },
          "execution_count": 17
        }
      ]
    },
    {
      "cell_type": "markdown",
      "metadata": {
        "id": "e0DxvFKg7BZR"
      },
      "source": [
        "Question Five"
      ]
    },
    {
      "cell_type": "code",
      "metadata": {
        "colab": {
          "base_uri": "https://localhost:8080/"
        },
        "id": "YA_zQTuf7DTV",
        "outputId": "65f4132b-8855-4802-bc05-e939f399223d"
      },
      "source": [
        "np.matmul(A, x)"
      ],
      "execution_count": 18,
      "outputs": [
        {
          "output_type": "execute_result",
          "data": {
            "text/plain": [
              "array([[ -1.],\n",
              "       [  4.],\n",
              "       [-10.]])"
            ]
          },
          "metadata": {
            "tags": []
          },
          "execution_count": 18
        }
      ]
    },
    {
      "cell_type": "markdown",
      "metadata": {
        "id": "x739dOhn7VAT"
      },
      "source": [
        "Question Six"
      ]
    },
    {
      "cell_type": "code",
      "metadata": {
        "id": "7XmrDNxD7WcO"
      },
      "source": [
        "from numpy.linalg import inv"
      ],
      "execution_count": 22,
      "outputs": []
    },
    {
      "cell_type": "code",
      "metadata": {
        "id": "hjEBkHVU8JB-"
      },
      "source": [
        "Ainv = inv(A)"
      ],
      "execution_count": 23,
      "outputs": []
    },
    {
      "cell_type": "code",
      "metadata": {
        "colab": {
          "base_uri": "https://localhost:8080/"
        },
        "id": "l8UwS0qz8QbF",
        "outputId": "2fa5a926-70d9-40ba-87d7-6810fc035725"
      },
      "source": [
        "Ainv"
      ],
      "execution_count": 24,
      "outputs": [
        {
          "output_type": "execute_result",
          "data": {
            "text/plain": [
              "array([[-0.66666667, -1.33333333,  1.        ],\n",
              "       [-0.66666667,  3.66666667, -2.        ],\n",
              "       [ 1.        , -2.        ,  1.        ]])"
            ]
          },
          "metadata": {
            "tags": []
          },
          "execution_count": 24
        }
      ]
    },
    {
      "cell_type": "code",
      "metadata": {
        "colab": {
          "base_uri": "https://localhost:8080/"
        },
        "id": "TnpMTjgf8Ruz",
        "outputId": "b9d56e7f-77d5-4700-dc8e-24b0212af9ef"
      },
      "source": [
        "np.matmul(Ainv, B)"
      ],
      "execution_count": 26,
      "outputs": [
        {
          "output_type": "execute_result",
          "data": {
            "text/plain": [
              "array([[-14.66666667],\n",
              "       [ 35.33333333],\n",
              "       [-19.        ]])"
            ]
          },
          "metadata": {
            "tags": []
          },
          "execution_count": 26
        }
      ]
    },
    {
      "cell_type": "code",
      "metadata": {
        "id": "ucysHEsx8XID"
      },
      "source": [
        ""
      ],
      "execution_count": null,
      "outputs": []
    },
    {
      "cell_type": "markdown",
      "metadata": {
        "id": "VvChuZAh8hvt"
      },
      "source": [
        "Question Seven"
      ]
    },
    {
      "cell_type": "code",
      "metadata": {
        "id": "AClyBp2E8kZl"
      },
      "source": [
        ""
      ],
      "execution_count": null,
      "outputs": []
    },
    {
      "cell_type": "markdown",
      "metadata": {
        "id": "qV213HE9-FIu"
      },
      "source": [
        "Question Eight"
      ]
    },
    {
      "cell_type": "code",
      "metadata": {
        "id": "Qah9n66U-Gh_"
      },
      "source": [
        "from sympy.abc import a,b,c #allows us to use a,b,c in symbolic calculations"
      ],
      "execution_count": 27,
      "outputs": []
    },
    {
      "cell_type": "code",
      "metadata": {
        "id": "5akHWLNL-RaG"
      },
      "source": [
        "import sympy as sp"
      ],
      "execution_count": 28,
      "outputs": []
    },
    {
      "cell_type": "code",
      "metadata": {
        "id": "3-cjpKpB-ULk"
      },
      "source": [
        "M=sp.Matrix([[1,2,3],[4,5,6],[7,8,9]]) "
      ],
      "execution_count": 29,
      "outputs": []
    },
    {
      "cell_type": "code",
      "metadata": {
        "colab": {
          "base_uri": "https://localhost:8080/"
        },
        "id": "xWx2_yAb-WX6",
        "outputId": "c9483fa5-29ff-4ed5-e6b2-206405908dc2"
      },
      "source": [
        "print(M)"
      ],
      "execution_count": 31,
      "outputs": [
        {
          "output_type": "stream",
          "text": [
            "Matrix([[1, 2, 3], [4, 5, 6], [7, 8, 9]])\n"
          ],
          "name": "stdout"
        }
      ]
    },
    {
      "cell_type": "code",
      "metadata": {
        "id": "1pFR69lc-XGA"
      },
      "source": [
        "N=sp.Matrix([[a,0,0],[0,b,0],[0,0,c]])"
      ],
      "execution_count": 32,
      "outputs": []
    },
    {
      "cell_type": "code",
      "metadata": {
        "colab": {
          "base_uri": "https://localhost:8080/"
        },
        "id": "lDmOxk_m-cS_",
        "outputId": "b0dbacc9-6bfa-4ccd-c929-31583c713a91"
      },
      "source": [
        "print(N)"
      ],
      "execution_count": 33,
      "outputs": [
        {
          "output_type": "stream",
          "text": [
            "Matrix([[a, 0, 0], [0, b, 0], [0, 0, c]])\n"
          ],
          "name": "stdout"
        }
      ]
    },
    {
      "cell_type": "code",
      "metadata": {
        "colab": {
          "base_uri": "https://localhost:8080/"
        },
        "id": "BPBpycL9-dAA",
        "outputId": "54cb52eb-ef44-4619-e236-13bd3f47a4a8"
      },
      "source": [
        "print(M*N)"
      ],
      "execution_count": 34,
      "outputs": [
        {
          "output_type": "stream",
          "text": [
            "Matrix([[a, 2*b, 3*c], [4*a, 5*b, 6*c], [7*a, 8*b, 9*c]])\n"
          ],
          "name": "stdout"
        }
      ]
    },
    {
      "cell_type": "code",
      "metadata": {
        "colab": {
          "base_uri": "https://localhost:8080/"
        },
        "id": "zLqxC-dH-fvo",
        "outputId": "2209412f-d095-4fd3-9d58-173f9ff98727"
      },
      "source": [
        "print(M.rref())"
      ],
      "execution_count": 35,
      "outputs": [
        {
          "output_type": "stream",
          "text": [
            "(Matrix([\n",
            "[1, 0, -1],\n",
            "[0, 1,  2],\n",
            "[0, 0,  0]]), (0, 1))\n"
          ],
          "name": "stdout"
        }
      ]
    },
    {
      "cell_type": "code",
      "metadata": {
        "id": "DzR1kEQI-vsn"
      },
      "source": [
        "N=sp.Matrix([[x+5, x-4, (x-2)**2, x**2, x, 1] for x in [1,2,3,4,5,6]])"
      ],
      "execution_count": 38,
      "outputs": []
    },
    {
      "cell_type": "code",
      "metadata": {
        "colab": {
          "base_uri": "https://localhost:8080/"
        },
        "id": "_8rXNk2d_T9H",
        "outputId": "7620d6a7-8a5f-409f-9cd9-da095b72e618"
      },
      "source": [
        "print(N)"
      ],
      "execution_count": 39,
      "outputs": [
        {
          "output_type": "stream",
          "text": [
            "Matrix([[6, -3, 1, 1, 1, 1], [7, -2, 0, 4, 2, 1], [8, -1, 1, 9, 3, 1], [9, 0, 4, 16, 4, 1], [10, 1, 9, 25, 5, 1], [11, 2, 16, 36, 6, 1]])\n"
          ],
          "name": "stdout"
        }
      ]
    },
    {
      "cell_type": "code",
      "metadata": {
        "colab": {
          "base_uri": "https://localhost:8080/"
        },
        "id": "H4kQKgyt_VlD",
        "outputId": "bf9afd31-b28c-414b-c53c-0f1a6715b8ab"
      },
      "source": [
        "print(N.rref())"
      ],
      "execution_count": 40,
      "outputs": [
        {
          "output_type": "stream",
          "text": [
            "(Matrix([\n",
            "[1, 0, 0, 4/3, 4/9,  1/9],\n",
            "[0, 1, 0, 8/3, 5/9, -1/9],\n",
            "[0, 0, 1,   1,   0,    0],\n",
            "[0, 0, 0,   0,   0,    0],\n",
            "[0, 0, 0,   0,   0,    0],\n",
            "[0, 0, 0,   0,   0,    0]]), (0, 1, 2))\n"
          ],
          "name": "stdout"
        }
      ]
    },
    {
      "cell_type": "markdown",
      "metadata": {
        "id": "ieB62Hv9__0z"
      },
      "source": [
        "Question Nine"
      ]
    },
    {
      "cell_type": "code",
      "metadata": {
        "id": "87ABJtNIABMA"
      },
      "source": [
        "M=sp.Matrix([[1, x, x**2, x**3, x**4, x**5] for x in [2,3,4,5,6,7]])"
      ],
      "execution_count": 41,
      "outputs": []
    },
    {
      "cell_type": "code",
      "metadata": {
        "colab": {
          "base_uri": "https://localhost:8080/"
        },
        "id": "k8vtgyPuAC1Z",
        "outputId": "6728047c-e110-4ec5-f269-c3b2d75ead8c"
      },
      "source": [
        "print(M)"
      ],
      "execution_count": 42,
      "outputs": [
        {
          "output_type": "stream",
          "text": [
            "Matrix([[1, 2, 4, 8, 16, 32], [1, 3, 9, 27, 81, 243], [1, 4, 16, 64, 256, 1024], [1, 5, 25, 125, 625, 3125], [1, 6, 36, 216, 1296, 7776], [1, 7, 49, 343, 2401, 16807]])\n"
          ],
          "name": "stdout"
        }
      ]
    },
    {
      "cell_type": "code",
      "metadata": {
        "colab": {
          "base_uri": "https://localhost:8080/"
        },
        "id": "7WbC2KDxAD9W",
        "outputId": "88f2388a-0dcb-4c86-87c6-0d53fadb8162"
      },
      "source": [
        "M.det()"
      ],
      "execution_count": 43,
      "outputs": [
        {
          "output_type": "execute_result",
          "data": {
            "text/plain": [
              "34560"
            ]
          },
          "metadata": {
            "tags": []
          },
          "execution_count": 43
        }
      ]
    }
  ]
}